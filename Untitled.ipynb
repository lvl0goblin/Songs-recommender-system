{
 "cells": [
  {
   "cell_type": "markdown",
   "id": "eb4c0cc5",
   "metadata": {},
   "source": [
    "# Recommender systems:\n",
    "\n",
    "Almost all of our decisions are based on recommendations wthat we see or hear. With the onset of digitalisation, companies are free from the the constraint of storage. For example , a shopkeeper has to initially keep balanced amounts of each item in the racks.Later on does he get to know the trend. Also the number of items is limited to the size of the rack. This is not the case in the current scenario. The vendor just needs to post the information of the said itwm on the internet. As the the customer, the vendor produces the items the customer only needs. <br>Now instead of showcasing all his producs, it is better for the showkeepr to showcase only those products based on customer's interest. That is where recommender systems come into play."
   ]
  },
  {
   "cell_type": "markdown",
   "id": "4d981feb",
   "metadata": {},
   "source": [
    "## Types of Recommender systems:\n",
    "There aremainly two types of recommender systems:\n",
    "1. Content based recommender system\n",
    "2. Collaborative based filtering system\n",
    "<br>\n",
    "\n",
    "Now the former gives recommendations based on the similarity of the content that isliked bythe user. Say Iwatch cricketvideos,then it will not recommend music, instead it gives cricket vidoes as recommendation. The latter creates recommendations based on similarity of two users. Say two users A and B have a similarity of 0.9, and say A has watched a movie which he/she liked, The the system recommends the samemovie to B, based on the fact that they have similar characters. This is the way Amaon recommends stuff. For example you buy bread from amaon groceries, amazon will recommend butteror jam or chocolate spread, cos thatis what other people do. Hope you understood about the different recommender systems."
   ]
  },
  {
   "cell_type": "code",
   "execution_count": 1,
   "id": "f1f8d0f0",
   "metadata": {},
   "outputs": [],
   "source": [
    "# import the modules\n",
    "\n",
    "import numpy as np\n",
    "import pandas as pd"
   ]
  },
  {
   "cell_type": "code",
   "execution_count": 2,
   "id": "5a45c08a",
   "metadata": {},
   "outputs": [],
   "source": [
    "songs = pd.read_csv('spotify_tracks.csv')"
   ]
  },
  {
   "cell_type": "code",
   "execution_count": 3,
   "id": "03a9758b",
   "metadata": {},
   "outputs": [],
   "source": [
    "songs.drop(columns=[\"duration_ms\",\"id\"], inplace=True)"
   ]
  },
  {
   "cell_type": "code",
   "execution_count": 4,
   "id": "c2f6eef0",
   "metadata": {},
   "outputs": [],
   "source": [
    "# Adding a normal index column starting from 1\n",
    "songs['Index'] = range(1, len(songs) + 1)\n",
    "\n",
    "# Optionally, move the 'Index' column to the front\n",
    "songs = songs[['Index'] + [col for col in songs.columns if col != 'Index']]"
   ]
  },
  {
   "cell_type": "code",
   "execution_count": 5,
   "id": "34dba240",
   "metadata": {},
   "outputs": [
    {
     "data": {
      "text/html": [
       "<div>\n",
       "<style scoped>\n",
       "    .dataframe tbody tr th:only-of-type {\n",
       "        vertical-align: middle;\n",
       "    }\n",
       "\n",
       "    .dataframe tbody tr th {\n",
       "        vertical-align: top;\n",
       "    }\n",
       "\n",
       "    .dataframe thead th {\n",
       "        text-align: right;\n",
       "    }\n",
       "</style>\n",
       "<table border=\"1\" class=\"dataframe\">\n",
       "  <thead>\n",
       "    <tr style=\"text-align: right;\">\n",
       "      <th></th>\n",
       "      <th>Index</th>\n",
       "      <th>name</th>\n",
       "      <th>genre</th>\n",
       "      <th>artists</th>\n",
       "      <th>album</th>\n",
       "      <th>popularity</th>\n",
       "      <th>explicit</th>\n",
       "    </tr>\n",
       "  </thead>\n",
       "  <tbody>\n",
       "    <tr>\n",
       "      <th>0</th>\n",
       "      <td>False</td>\n",
       "      <td>False</td>\n",
       "      <td>False</td>\n",
       "      <td>False</td>\n",
       "      <td>False</td>\n",
       "      <td>False</td>\n",
       "      <td>False</td>\n",
       "    </tr>\n",
       "    <tr>\n",
       "      <th>1</th>\n",
       "      <td>False</td>\n",
       "      <td>False</td>\n",
       "      <td>False</td>\n",
       "      <td>False</td>\n",
       "      <td>False</td>\n",
       "      <td>False</td>\n",
       "      <td>False</td>\n",
       "    </tr>\n",
       "    <tr>\n",
       "      <th>2</th>\n",
       "      <td>False</td>\n",
       "      <td>False</td>\n",
       "      <td>False</td>\n",
       "      <td>False</td>\n",
       "      <td>False</td>\n",
       "      <td>False</td>\n",
       "      <td>False</td>\n",
       "    </tr>\n",
       "    <tr>\n",
       "      <th>3</th>\n",
       "      <td>False</td>\n",
       "      <td>False</td>\n",
       "      <td>False</td>\n",
       "      <td>False</td>\n",
       "      <td>False</td>\n",
       "      <td>False</td>\n",
       "      <td>False</td>\n",
       "    </tr>\n",
       "    <tr>\n",
       "      <th>4</th>\n",
       "      <td>False</td>\n",
       "      <td>False</td>\n",
       "      <td>False</td>\n",
       "      <td>False</td>\n",
       "      <td>False</td>\n",
       "      <td>False</td>\n",
       "      <td>False</td>\n",
       "    </tr>\n",
       "    <tr>\n",
       "      <th>...</th>\n",
       "      <td>...</td>\n",
       "      <td>...</td>\n",
       "      <td>...</td>\n",
       "      <td>...</td>\n",
       "      <td>...</td>\n",
       "      <td>...</td>\n",
       "      <td>...</td>\n",
       "    </tr>\n",
       "    <tr>\n",
       "      <th>6295</th>\n",
       "      <td>False</td>\n",
       "      <td>False</td>\n",
       "      <td>False</td>\n",
       "      <td>False</td>\n",
       "      <td>False</td>\n",
       "      <td>False</td>\n",
       "      <td>False</td>\n",
       "    </tr>\n",
       "    <tr>\n",
       "      <th>6296</th>\n",
       "      <td>False</td>\n",
       "      <td>False</td>\n",
       "      <td>False</td>\n",
       "      <td>False</td>\n",
       "      <td>False</td>\n",
       "      <td>False</td>\n",
       "      <td>False</td>\n",
       "    </tr>\n",
       "    <tr>\n",
       "      <th>6297</th>\n",
       "      <td>False</td>\n",
       "      <td>False</td>\n",
       "      <td>False</td>\n",
       "      <td>False</td>\n",
       "      <td>False</td>\n",
       "      <td>False</td>\n",
       "      <td>False</td>\n",
       "    </tr>\n",
       "    <tr>\n",
       "      <th>6298</th>\n",
       "      <td>False</td>\n",
       "      <td>False</td>\n",
       "      <td>False</td>\n",
       "      <td>False</td>\n",
       "      <td>False</td>\n",
       "      <td>False</td>\n",
       "      <td>False</td>\n",
       "    </tr>\n",
       "    <tr>\n",
       "      <th>6299</th>\n",
       "      <td>False</td>\n",
       "      <td>False</td>\n",
       "      <td>False</td>\n",
       "      <td>False</td>\n",
       "      <td>False</td>\n",
       "      <td>False</td>\n",
       "      <td>False</td>\n",
       "    </tr>\n",
       "  </tbody>\n",
       "</table>\n",
       "<p>6300 rows × 7 columns</p>\n",
       "</div>"
      ],
      "text/plain": [
       "      Index   name  genre  artists  album  popularity  explicit\n",
       "0     False  False  False    False  False       False     False\n",
       "1     False  False  False    False  False       False     False\n",
       "2     False  False  False    False  False       False     False\n",
       "3     False  False  False    False  False       False     False\n",
       "4     False  False  False    False  False       False     False\n",
       "...     ...    ...    ...      ...    ...         ...       ...\n",
       "6295  False  False  False    False  False       False     False\n",
       "6296  False  False  False    False  False       False     False\n",
       "6297  False  False  False    False  False       False     False\n",
       "6298  False  False  False    False  False       False     False\n",
       "6299  False  False  False    False  False       False     False\n",
       "\n",
       "[6300 rows x 7 columns]"
      ]
     },
     "execution_count": 5,
     "metadata": {},
     "output_type": "execute_result"
    }
   ],
   "source": [
    "songs.isnull()"
   ]
  },
  {
   "cell_type": "code",
   "execution_count": 6,
   "id": "d23b9ad5",
   "metadata": {},
   "outputs": [
    {
     "data": {
      "text/plain": [
       "0"
      ]
     },
     "execution_count": 6,
     "metadata": {},
     "output_type": "execute_result"
    }
   ],
   "source": [
    "songs.duplicated().sum()"
   ]
  },
  {
   "cell_type": "code",
   "execution_count": 7,
   "id": "769d79af",
   "metadata": {},
   "outputs": [],
   "source": [
    "songs[\"artist\"]= songs[\"artists\"]"
   ]
  },
  {
   "cell_type": "code",
   "execution_count": 8,
   "id": "90e4a762",
   "metadata": {},
   "outputs": [],
   "source": [
    "\"\"\"Now what i will be doing is create a list of keywords.The keywords will contain artists' name, along with album and the genre. \n",
    "One thing i observed that there may be more than one artist per song,so first i will convert the artists column which will \n",
    "contain a list of artist names.\"\"\"\n",
    "\n",
    "#then later on i will append the genre and album to the above created list\n",
    "\n",
    "def artist_to_list(string):\n",
    "    return string.split(\",\")\n",
    "\n",
    "def append_the_string(row):\n",
    "    row['artists'].append(row['genre'])\n",
    "    row['artists'].append(row['album'])\n",
    "    return row['artists']\n"
   ]
  },
  {
   "cell_type": "code",
   "execution_count": 9,
   "id": "51d93def",
   "metadata": {},
   "outputs": [],
   "source": [
    "songs[\"artists\"] = songs[\"artists\"].apply(artist_to_list)\n"
   ]
  },
  {
   "cell_type": "markdown",
   "id": "f9a2dfcc",
   "metadata": {},
   "source": [
    "Now what i will be doing is create a list of keywords.The keywords will contain artists' name, along with album and the genre. One thing i observed that there may be more than one artist per song sofirst i will  convert the artists column which will contain a list of artist names."
   ]
  },
  {
   "cell_type": "code",
   "execution_count": 10,
   "id": "886993f2",
   "metadata": {},
   "outputs": [],
   "source": [
    "songs[\"artists\"] = songs.apply(append_the_string, axis=1)"
   ]
  },
  {
   "cell_type": "code",
   "execution_count": 11,
   "id": "8bc07138",
   "metadata": {},
   "outputs": [],
   "source": [
    "songs[\"genre\"] =songs[\"genre\"]+songs[\"album\"]\n",
    "songs.drop(columns=[\"album\"], inplace=True)"
   ]
  },
  {
   "cell_type": "code",
   "execution_count": 12,
   "id": "77fe5fdb",
   "metadata": {},
   "outputs": [],
   "source": [
    "songs.drop(columns=[\"genre\"],inplace= True)"
   ]
  },
  {
   "cell_type": "code",
   "execution_count": 13,
   "id": "0492214e",
   "metadata": {},
   "outputs": [],
   "source": [
    "songs[\"artists\"] = songs[\"artists\"].apply(lambda x:[i.replace(\" \",\"\") for i in x])\n",
    "# removed the spacesfrom the keywords. Why?\n",
    "# say we have artist Ashwin S and Ashwin M. due to space we have keywords \"Ashwin\",\"S\" and \"M\". \n",
    "# Now we want songs from Ashwin S, but it will start recommending from artist Ashwin M. Hence we remove the space."
   ]
  },
  {
   "cell_type": "code",
   "execution_count": 14,
   "id": "b2d45811",
   "metadata": {},
   "outputs": [],
   "source": [
    "songs.rename(columns={\"artists\":\"tags\"} ,inplace=True)"
   ]
  },
  {
   "cell_type": "code",
   "execution_count": 15,
   "id": "3bf7c389",
   "metadata": {},
   "outputs": [],
   "source": [
    "def is_explicit(row):\n",
    "    if row[\"explicit\"]:\n",
    "        row[\"tags\"].append(\"explicit\")\n",
    "    else:\n",
    "        row[\"tags\"].append(\"notexplicit\")\n",
    "    return row[\"tags\"]"
   ]
  },
  {
   "cell_type": "code",
   "execution_count": 16,
   "id": "739fdf04",
   "metadata": {},
   "outputs": [],
   "source": [
    "songs[\"tags\"] = songs.apply(is_explicit, axis =1)"
   ]
  },
  {
   "cell_type": "code",
   "execution_count": 17,
   "id": "2d30551e",
   "metadata": {},
   "outputs": [],
   "source": [
    "songs.drop(columns=\"explicit\" , inplace=True)"
   ]
  },
  {
   "cell_type": "code",
   "execution_count": 18,
   "id": "501406e7",
   "metadata": {},
   "outputs": [],
   "source": [
    "songs[\"tags\"] = songs[\"tags\"].apply(lambda x:\" \".join(x))\n",
    "songs[\"tags\"] = songs[\"tags\"].apply(lambda x: x.lower())"
   ]
  },
  {
   "cell_type": "code",
   "execution_count": 19,
   "id": "150c8cc3",
   "metadata": {},
   "outputs": [],
   "source": [
    "from sklearn.feature_extraction.text import CountVectorizer\n",
    "cv = CountVectorizer(max_features =2500, stop_words=\"english\")"
   ]
  },
  {
   "cell_type": "code",
   "execution_count": 20,
   "id": "e64b1b28",
   "metadata": {},
   "outputs": [],
   "source": [
    "vectors = cv.fit_transform(songs[\"tags\"]).toarray()"
   ]
  },
  {
   "cell_type": "code",
   "execution_count": 21,
   "id": "4a942c6f",
   "metadata": {},
   "outputs": [],
   "source": [
    "#cv.get_feature_names_out()[1:100]"
   ]
  },
  {
   "cell_type": "code",
   "execution_count": 22,
   "id": "cd30dd89",
   "metadata": {},
   "outputs": [],
   "source": [
    "from sklearn.metrics.pairwise import cosine_similarity\n",
    "\n",
    "similarity = cosine_similarity(vectors)"
   ]
  },
  {
   "cell_type": "code",
   "execution_count": 41,
   "id": "297ba6bc",
   "metadata": {},
   "outputs": [],
   "source": [
    "def recommend(song, artist=\"None\"):\n",
    "    index = songs.index[songs[\"name\"] == song].tolist()[0]\n",
    "    distances = similarity[index]\n",
    "    recommended_songs = sorted(list(enumerate(distances)),reverse = True, key=lambda x:x[1])[1:6]\n",
    "    for i in recommended_songs:\n",
    "        print (songs.iloc[i[0]-1][\"name\"])\n",
    "    \n",
    "    "
   ]
  },
  {
   "cell_type": "code",
   "execution_count": 42,
   "id": "f04f5d2f",
   "metadata": {
    "scrolled": true
   },
   "outputs": [
    {
     "name": "stdout",
     "output_type": "stream",
     "text": [
      "numb\n",
      "UnLonely\n",
      "Finally Over\n",
      "New Summers\n",
      "New Year’s Day\n"
     ]
    }
   ],
   "source": [
    "recommend(\"Pieces\")"
   ]
  },
  {
   "cell_type": "code",
   "execution_count": null,
   "id": "01685e55",
   "metadata": {},
   "outputs": [],
   "source": []
  },
  {
   "cell_type": "code",
   "execution_count": null,
   "id": "d1d5c959",
   "metadata": {},
   "outputs": [],
   "source": []
  }
 ],
 "metadata": {
  "kernelspec": {
   "display_name": "Python 3 (ipykernel)",
   "language": "python",
   "name": "python3"
  },
  "language_info": {
   "codemirror_mode": {
    "name": "ipython",
    "version": 3
   },
   "file_extension": ".py",
   "mimetype": "text/x-python",
   "name": "python",
   "nbconvert_exporter": "python",
   "pygments_lexer": "ipython3",
   "version": "3.11.5"
  }
 },
 "nbformat": 4,
 "nbformat_minor": 5
}
